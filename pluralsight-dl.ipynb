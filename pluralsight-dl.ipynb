{
 "cells": [
  {
   "cell_type": "code",
   "execution_count": 1,
   "metadata": {},
   "outputs": [],
   "source": [
    "from selenium.webdriver import Firefox\n",
    "from selenium.webdriver.firefox.options import Options\n",
    "from selenium.webdriver.common.by import By\n",
    "from selenium.webdriver.common.keys import Keys\n",
    "from selenium.webdriver.support.ui import WebDriverWait\n",
    "from selenium.webdriver.support import expected_conditions as EC\n",
    "from bs4 import BeautifulSoup\n",
    "import urllib.request\n",
    "from pathlib import Path\n",
    "import os\n",
    "import re\n",
    "from time import sleep\n",
    "import requests\n",
    "from lxml import html\n",
    "from urllib.request import urlopen\n",
    "from urllib.error import HTTPError\n",
    "from creds import USERNAME, PASSWORD, COURSE_TITLE, PS_LIB_URL, PS_ID_URL"
   ]
  },
  {
   "cell_type": "code",
   "execution_count": 2,
   "metadata": {},
   "outputs": [],
   "source": [
    "driver = Firefox()\n",
    "driver.get(PS_LIB_URL)"
   ]
  },
  {
   "cell_type": "code",
   "execution_count": null,
   "metadata": {},
   "outputs": [],
   "source": [
    "# driver.find_element_by_id('Username').send_keys(USERNAME)\n",
    "# driver.find_element_by_id('Password').send_keys(PASSWORD)\n",
    "# driver.find_element_by_id('login').click()"
   ]
  },
  {
   "cell_type": "code",
   "execution_count": 3,
   "metadata": {},
   "outputs": [],
   "source": [
    "WebDriverWait(driver, 5).until(EC.element_to_be_clickable((By.LINK_TEXT, COURSE_TITLE)))\n",
    "main = driver.find_element_by_link_text(COURSE_TITLE)\n",
    "driver.get(main.get_attribute(\"href\"))"
   ]
  },
  {
   "cell_type": "code",
   "execution_count": 4,
   "metadata": {},
   "outputs": [],
   "source": [
    "driver.find_element_by_class_name('course-hero__button').click()\n",
    "# driver.find_element_by_xpath(\"//button[.='Expand All']\").click()"
   ]
  },
  {
   "cell_type": "code",
   "execution_count": null,
   "metadata": {},
   "outputs": [],
   "source": [
    "sleep(10) #to manually expand all modules\n",
    "soup = BeautifulSoup(driver.page_source, 'lxml')\n",
    "modules = soup.find_all(class_=\"module\")\n",
    "module_content = driver.find_elements_by_class_name(\"module\")\n",
    "try:\n",
    "    \n",
    "    Path(COURSE_TITLE).mkdir(parents=True, exist_ok=True)\n",
    "    os.chdir(COURSE_TITLE)\n",
    "\n",
    "    for btns_clickable_list,lorem in zip(module_content,modules):\n",
    "        module_header = lorem.find(\"h2\")\n",
    "        Path(module_header.text).mkdir(parents=True, exist_ok=True)\n",
    "        os.chdir(module_header.text)\n",
    "        btns_clickable = btns_clickable_list.find_elements_by_class_name(\"content-item\")\n",
    "        for btn in btns_clickable:\n",
    "            btn.click()\n",
    "            WebDriverWait(driver, 5).until(EC.element_to_be_clickable((By.ID, \"video-element\")))\n",
    "            soup = BeautifulSoup(driver.page_source, 'lxml')\n",
    "            video_element = soup.find(id=\"video-element\")\n",
    "            urllib.request.urlretrieve(video_element.get('src'), btn.find_element_by_tag_name(\"h3\").text)\n",
    "            print(module_header.text + '\\n' + btn.find_element_by_tag_name(\"h3\").text + '\\n' + video_element.get('src'))\n",
    "        os.chdir('..')\n",
    "    os.chdir('..')\n",
    "    \n",
    "except TimeoutError:\n",
    "    print(\"TimeoutError\")\n",
    "    os.chdir('')\n",
    "finally:\n",
    "    driver.quit()"
   ]
  },
  {
   "cell_type": "code",
   "execution_count": 6,
   "metadata": {},
   "outputs": [],
   "source": [
    "driver.quit()"
   ]
  },
  {
   "cell_type": "code",
   "execution_count": null,
   "metadata": {},
   "outputs": [],
   "source": []
  },
  {
   "cell_type": "code",
   "execution_count": null,
   "metadata": {},
   "outputs": [],
   "source": []
  },
  {
   "cell_type": "code",
   "execution_count": null,
   "metadata": {},
   "outputs": [],
   "source": []
  },
  {
   "cell_type": "code",
   "execution_count": null,
   "metadata": {},
   "outputs": [],
   "source": []
  },
  {
   "cell_type": "code",
   "execution_count": null,
   "metadata": {},
   "outputs": [],
   "source": []
  },
  {
   "cell_type": "code",
   "execution_count": null,
   "metadata": {},
   "outputs": [],
   "source": []
  },
  {
   "cell_type": "code",
   "execution_count": null,
   "metadata": {},
   "outputs": [],
   "source": []
  },
  {
   "cell_type": "code",
   "execution_count": null,
   "metadata": {},
   "outputs": [],
   "source": []
  },
  {
   "cell_type": "code",
   "execution_count": null,
   "metadata": {},
   "outputs": [],
   "source": [
    "soup = BeautifulSoup(driver.page_source,'lxml')\n",
    "drawers = soup.find_all(class_= re.compile('^drawer*'))\n",
    "Path(COURSE_TITLE).mkdir(parents=True, exist_ok=True)\n",
    "os.chdir(COURSE_TITLE)\n",
    "\n",
    "for module in drawers:\n",
    "    print(module.find('h3').text) #module-header\n",
    "    Path(module.find('h3').text).mkdir(parents=True, exist_ok=True)\n",
    "    os.chdir(module.find('h3').text)\n",
    "    lorem = module.find_all('a', class_= re.compile('^clipListTitle*'))\n",
    "    for ipsum in lorem:\n",
    "        print(ipsum.text) #video-title\n",
    "        print('https://app.pluralsight.com'+ipsum['href']) #video-player-link\n",
    "#         lorem = requests.get('https://app.pluralsight.com'+ipsum['href'])\n",
    "#         print(lorem.text)\n",
    "    \n",
    "#         soup = BeautifulSoup(lorem.text, 'lxml')\n",
    "#         WebDriverWait(driver, 10).until(EC.element_to_be_clickable((By.ID, \"video-element\")))\n",
    "#         video_element = soup.find(id=\"video-element\")\n",
    "#         print(video_element.get('src'))\n",
    "#         urllib.request.urlretrieve(video_element.get('src'), ipsum.text)\n",
    "        urllib.request.urlretrieve('http://techslides.com/demos/sample-videos/small.mp4', ipsum.text)\n",
    "    print('\\n')\n",
    "    os.chdir('..')\n",
    "os.chdir('..')"
   ]
  },
  {
   "cell_type": "code",
   "execution_count": null,
   "metadata": {},
   "outputs": [],
   "source": []
  },
  {
   "cell_type": "code",
   "execution_count": null,
   "metadata": {},
   "outputs": [],
   "source": []
  },
  {
   "cell_type": "code",
   "execution_count": null,
   "metadata": {},
   "outputs": [],
   "source": []
  },
  {
   "cell_type": "code",
   "execution_count": null,
   "metadata": {},
   "outputs": [],
   "source": []
  },
  {
   "cell_type": "code",
   "execution_count": null,
   "metadata": {},
   "outputs": [],
   "source": []
  },
  {
   "cell_type": "code",
   "execution_count": null,
   "metadata": {},
   "outputs": [],
   "source": [
    "session_obj = requests.session()\n",
    "session_obj.headers.update({ 'User-Agent': 'Mozilla/5.0 (X11; Linux x86_64; rv:68.0) Gecko/20100101 Firefox/68.0'})\n",
    "\n",
    "response_obj = session_obj.get(PS_LIB_URL)"
   ]
  },
  {
   "cell_type": "code",
   "execution_count": null,
   "metadata": {},
   "outputs": [],
   "source": [
    "# print(response_obj.text)\n",
    "# print(session_obj.cookies)\n",
    "soup = BeautifulSoup(response_obj.content, 'html.parser')\n",
    "csrf_token = soup.find(attrs={\"name\":\"__RequestVerificationToken\"}).get('value')\n",
    "showcaptcha = soup.find(id='ShowCaptcha').get('value')\n",
    "recaptcha = soup.find(id='ReCaptchaSiteKey').get('value')\n",
    "# print(type(session_obj.cookies))\n",
    "# csrf_token = session_obj.cookies['Cookie __RequestVerificationToken_L2lk0']\n",
    "# print(csrf_token)"
   ]
  },
  {
   "cell_type": "code",
   "execution_count": null,
   "metadata": {},
   "outputs": [],
   "source": [
    "payload = {\n",
    "    \"__RequestVerificationToken\" : csrf_token,\n",
    "    \"RedirectUrl\" : \"\",\n",
    "    \"Username\" : USERNAME,\n",
    "    \"Password\" : PASSWORD,\n",
    "    \"ShowCaptcha\" : showcaptcha,\n",
    "    \"ReCaptchaSiteKey\" : recaptcha\n",
    "    \n",
    "}\n",
    "print(payload)"
   ]
  },
  {
   "cell_type": "code",
   "execution_count": null,
   "metadata": {},
   "outputs": [],
   "source": [
    "\n",
    "\n",
    "# session_obj.headers.update({ 'User-Agent': 'Mozilla/5.0 (X11; Linux x86_64; rv:68.0) Gecko/20100101 Firefox/68.0'})\n",
    "post = session_obj.post(pslib, data=payload, headers=dict(Referer=psid))\n",
    "# print(post.headers)\n",
    "# soup2 = BeautifulSoup(post.text, 'html.parser')\n",
    "# print(soup2.prettify())"
   ]
  },
  {
   "cell_type": "code",
   "execution_count": null,
   "metadata": {},
   "outputs": [],
   "source": [
    "get = session_obj.get(pslib)\n",
    "soup1 = BeautifulSoup(get.content, 'html.parser')\n",
    "print(soup1.prettify())"
   ]
  },
  {
   "cell_type": "code",
   "execution_count": null,
   "metadata": {},
   "outputs": [],
   "source": [
    "session_obj = requests.Session()\n",
    "session_obj.headers.update({ 'User-Agent': 'Mozilla/5.0 (X11; Linux x86_64; rv:68.0) Gecko/20100101 Firefox/68.0'})\n",
    "\n",
    "post = session_obj.post(PS_ID_URL, data = payload)\n",
    "soup2 = BeautifulSoup(post.text, 'lxml')\n",
    "print(soup2.prettify())"
   ]
  },
  {
   "cell_type": "code",
   "execution_count": null,
   "metadata": {},
   "outputs": [],
   "source": [
    "get = session_obj.get(PS_LIB_URL)"
   ]
  },
  {
   "cell_type": "code",
   "execution_count": null,
   "metadata": {},
   "outputs": [],
   "source": []
  },
  {
   "cell_type": "code",
   "execution_count": null,
   "metadata": {},
   "outputs": [],
   "source": []
  },
  {
   "cell_type": "code",
   "execution_count": null,
   "metadata": {},
   "outputs": [],
   "source": []
  },
  {
   "cell_type": "code",
   "execution_count": null,
   "metadata": {},
   "outputs": [],
   "source": []
  }
 ],
 "metadata": {
  "kernelspec": {
   "display_name": "Python 3",
   "language": "python",
   "name": "python3"
  },
  "language_info": {
   "codemirror_mode": {
    "name": "ipython",
    "version": 3
   },
   "file_extension": ".py",
   "mimetype": "text/x-python",
   "name": "python",
   "nbconvert_exporter": "python",
   "pygments_lexer": "ipython3",
   "version": "3.7.3"
  }
 },
 "nbformat": 4,
 "nbformat_minor": 4
}
